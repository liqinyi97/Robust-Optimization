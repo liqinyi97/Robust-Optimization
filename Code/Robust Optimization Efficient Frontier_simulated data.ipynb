{
 "cells": [
  {
   "cell_type": "code",
   "execution_count": 1,
   "metadata": {},
   "outputs": [],
   "source": [
    "import numpy as np\n",
    "import pandas as pd\n",
    "import matplotlib.pyplot as plt\n",
    "from cvxopt import matrix, solvers\n",
    "solvers.options['show_progress'] = False\n",
    "from scipy.stats import chi2"
   ]
  },
  {
   "cell_type": "markdown",
   "metadata": {},
   "source": [
    "## Parameter Settings"
   ]
  },
  {
   "cell_type": "code",
   "execution_count": 2,
   "metadata": {},
   "outputs": [],
   "source": [
    "def corr2cov(corr, std):\n",
    "    N_asset = len(std)\n",
    "    cov = np.zeros((N_asset, N_asset))\n",
    "    for i in range(N_asset):\n",
    "        for j in range(N_asset):\n",
    "            cov[i][j] = corr[i][j]*std[i]*std[j]\n",
    "    return cov"
   ]
  },
  {
   "cell_type": "code",
   "execution_count": 3,
   "metadata": {},
   "outputs": [],
   "source": [
    "#mu = np.array([0.0248, 0.0242])\n",
    "#std = np.array([0.0042, 0.0033])\n",
    "#corr = np.array([[1,0.7],[0.7,1]])\n",
    "mu = np.array([.015617, .019477, .01907, .015801, .021643, .016010, .014892, .016248,.014075, .014537])\n",
    "std = np.array([.088308, .084585, .01004, .086215, .059886, .068767, .058162, .056385, .080047, .082125])\n",
    "corr = np.array([[ 1,  0.366, 0.3457,   0.1606,     0.2279,  0.5133,  0.5203,    0.2176,  0.3267,  0.5101], \n",
    "             [ 0.366,  1,  0.5379,    0.2165,  0.4986,   0.5823,  0.5569,    0.4760,  0.6517,  0.5853],\n",
    "             [0.3457,  0.5379,   1,     0.2218,  0.4283,  0.4051,  0.4492,   0.3867,  0.4883,  0.6569],\n",
    "             [0.1606,  0.2165,   0.2218, 1,    0.0569,  0.3609,  0.2325,    0.2289,  0.1726,  0.3814 ],\n",
    "             [0.2279,  0.4986,   0.4283, 0.0569,  1,     0.3619,  0.4811,    0.5952,  0.4378,  0.4368],\n",
    "             [0.5133,  0.5823,   0.4051, 0.3609,  0.3619,  1,     0.6167,    0.4996,  0.5811,  0.5644],\n",
    "             [0.5203,  0.5569,   0.4492, 0.2325,  0.4811,  0.6167,  1,      0.6037,  0.5671,  0.6032 ],\n",
    "             [0.2176,  0.4760,   0.3867, 0.2289,  0.5952,  0.4996,  0.6037,      1,  0.5012,  0.4772 ],\n",
    "             [0.3267,  0.6517,   0.4883, 0.1726,  0.4378,  0.5811,  0.5671,    0.5012,  1,    0.6039 ],\n",
    "             [ 0.5101, 0.5853,   0.6569, 0.3814,  0.4368,  0.5644,  0.6032,    0.4772,  0.6039,   1 ]])"
   ]
  },
  {
   "cell_type": "code",
   "execution_count": 4,
   "metadata": {},
   "outputs": [],
   "source": [
    "cov = corr2cov(corr, std)"
   ]
  },
  {
   "cell_type": "markdown",
   "metadata": {},
   "source": [
    "## Create Simulated Series"
   ]
  },
  {
   "cell_type": "code",
   "execution_count": 11,
   "metadata": {},
   "outputs": [],
   "source": [
    "def simulate_series(true_mean, true_cov, N_obs = 100):\n",
    "    simulate_return_series = []\n",
    "    #Conduct Cholesky Decomposition on the true covariance matrix\n",
    "    L = np.linalg.cholesky(true_cov)\n",
    "    #Given the number of observation in a series\n",
    "    N_asset = len(true_mean)\n",
    "    for i in range(N_obs):\n",
    "        Z = np.random.normal(size = N_asset)\n",
    "        simulate_return_series.append(true_mean + np.dot(L, Z))\n",
    "    return list(zip(*simulate_return_series))"
   ]
  },
  {
   "cell_type": "code",
   "execution_count": 18,
   "metadata": {},
   "outputs": [],
   "source": [
    "rtn_series = simulate_series(mu, cov, N_obs = 500)"
   ]
  },
  {
   "cell_type": "code",
   "execution_count": 19,
   "metadata": {},
   "outputs": [
    {
     "data": {
      "text/plain": [
       "array([0.01719757, 0.02400676, 0.01960116, 0.01265005, 0.02344271,\n",
       "       0.01842048, 0.0181168 , 0.01464265, 0.01544054, 0.01684353])"
      ]
     },
     "execution_count": 19,
     "metadata": {},
     "output_type": "execute_result"
    }
   ],
   "source": [
    "np.mean(rtn_series,axis = 1)"
   ]
  },
  {
   "cell_type": "markdown",
   "metadata": {},
   "source": [
    "## Conduct Optimization and Draw Frontier Plot"
   ]
  },
  {
   "cell_type": "code",
   "execution_count": 20,
   "metadata": {},
   "outputs": [],
   "source": [
    "def build_frontier(true_return, true_cov, estimated_return, sigma, risk_level, eta):\n",
    "    N_asset = len(true_return)\n",
    "    L = np.linalg.cholesky(true_cov)\n",
    "    \n",
    "    #Calculate true frontier\n",
    "    c = matrix(-true_return)\n",
    "    A = matrix(np.array([[1.0 for i in range(N_asset)]]), tc='d')\n",
    "    b = matrix(np.array([1.0]), tc='d')\n",
    "    \n",
    "    Gl = matrix(np.diag([-1.0 for i in range(N_asset)]), tc='d')\n",
    "    hl = matrix(np.array([0.0 for i in range(N_asset)]), tc='d')\n",
    "    Gq = [matrix(np.vstack([np.array([0.0 for i in range(N_asset)]), (-1)*L.T]))]\n",
    "    hq = [matrix(np.array([risk_level] + [0.0 for i in range(N_asset)]))]\n",
    "    \n",
    "    sol = solvers.socp(c, Gl = Gl, hl = hl, Gq = Gq, hq = hq, A = A, b = b)\n",
    "    w_true = sol['x']\n",
    "    \n",
    "    r_true = -sol['primal objective']\n",
    "    \n",
    "    #Calculate estimated Markowitz frontier\n",
    "    c = matrix(-estimated_return)\n",
    "    A = matrix(np.array([[1.0 for i in range(N_asset)]]), tc='d')\n",
    "    b = matrix(np.array([1.0]), tc='d')\n",
    "    \n",
    "    Gl = matrix(np.diag([-1.0 for i in range(N_asset)]), tc='d')\n",
    "    hl = matrix(np.array([0.0 for i in range(N_asset)]), tc='d')\n",
    "    Gq = [matrix(np.vstack([np.array([0.0 for i in range(N_asset)]), (-1)*L.T]))]\n",
    "    hq = [matrix(np.array([risk_level] + [0.0 for i in range(N_asset)]))]\n",
    "    \n",
    "    sol = solvers.socp(c, Gl = Gl, hl = hl, Gq = Gq, hq = hq, A = A, b = b)\n",
    "    w_estimated = sol['x']\n",
    "    \n",
    "    r_estimated = -sol['primal objective']\n",
    "    \n",
    "    #Calculate Actual Markowitz frontier\n",
    "    r_actual = np.dot(true_return, w_estimated)[0]\n",
    "    \n",
    "    #Calculate Estimated Robust frontier\n",
    "    kappa = np.sqrt(chi2.ppf(eta, df = N_asset))\n",
    "    P = np.linalg.cholesky(sigma)\n",
    "    \n",
    "    c = matrix(np.append(-estimated_return, [kappa]))\n",
    "    A = matrix(np.array([[1.0 for i in range(N_asset)] + [0.0]]), tc='d')\n",
    "    b = matrix(np.array([1.0]), tc='d')\n",
    "    \n",
    "    Gl = matrix(np.diag([-1.0 for i in range(N_asset+1)]), tc='d')\n",
    "    hl = matrix(np.array([0.0 for i in range(N_asset+1)]), tc='d')\n",
    "    G_0 = np.hstack([(-1)*L.T, np.array([[0.0] for i in range(N_asset)])])\n",
    "    G_0 = np.vstack([np.array([0.0 for i in range(N_asset+1)]), G_0])\n",
    "    Gq = [matrix(G_0)]\n",
    "    hq = [matrix(np.array([risk_level] + [0.0 for i in range(N_asset)]))]\n",
    "    G_1 = np.hstack([(-1)*P.T, np.array([[0.0] for i in range(N_asset)])])\n",
    "    G_1 = np.vstack([np.array([0.0 for i in range(N_asset)] + [-1.0]), G_1])\n",
    "    Gq += [matrix(G_1)]\n",
    "    hq += [matrix(np.array([0.0 for i in range(N_asset+1)]))]\n",
    "    \n",
    "    sol = solvers.socp(c, Gl = Gl, hl = hl, Gq = Gq, hq = hq, A = A, b = b)\n",
    "    w_estimated_robust = sol['x'][:-1]\n",
    "    \n",
    "    r_estimated_robust= np.dot(estimated_return, w_estimated_robust)[0]\n",
    "    \n",
    "    #Calculate Actual Markowitz frontier\n",
    "    r_actual_robust = np.dot(true_return, w_estimated_robust)[0]\n",
    "    \n",
    "    return (w_true, w_estimated, w_estimated_robust, \n",
    "            r_true, r_estimated, r_actual, r_estimated_robust, r_actual_robust)"
   ]
  },
  {
   "cell_type": "code",
   "execution_count": 21,
   "metadata": {},
   "outputs": [],
   "source": [
    "risk_levels = np.arange(0.011, 0.10, 0.0005)\n",
    "frontier = pd.DataFrame(data = None, index = [risk for risk in risk_levels],\n",
    "                        columns = ['true frontier', 'estimated frontier', 'actual frontier',\n",
    "                                   'estimated robust frontier', 'actual robust frontier'])\n",
    "\n",
    "for risk in risk_levels:\n",
    "    results = build_frontier(true_return = mu, true_cov = cov, estimated_return = np.mean(rtn_series,axis = 1), \n",
    "             sigma = np.diag(np.diag(cov/500)), risk_level = risk, eta = 0.95)\n",
    "    frontier.loc[risk] = [results[i] for i in range(3,8)]"
   ]
  },
  {
   "cell_type": "code",
   "execution_count": 22,
   "metadata": {},
   "outputs": [
    {
     "data": {
      "text/plain": [
       "<matplotlib.axes._subplots.AxesSubplot at 0x22a02a4d30>"
      ]
     },
     "execution_count": 22,
     "metadata": {},
     "output_type": "execute_result"
    },
    {
     "data": {
      "image/png": "[encoded data removed]",
      "text/plain": [
       "<Figure size 432x288 with 1 Axes>"
      ]
     },
     "metadata": {
      "needs_background": "light"
     },
     "output_type": "display_data"
    }
   ],
   "source": [
    "frontier.plot()"
   ]
  },
  {
   "cell_type": "code",
   "execution_count": null,
   "metadata": {},
   "outputs": [],
   "source": []
  }
 ],
 "metadata": {
  "kernelspec": {
   "display_name": "Python 3",
   "language": "python",
   "name": "python3"
  },
  "language_info": {
   "codemirror_mode": {
    "name": "ipython",
    "version": 3
   },
   "file_extension": ".py",
   "mimetype": "text/x-python",
   "name": "python",
   "nbconvert_exporter": "python",
   "pygments_lexer": "ipython3",
   "version": "3.7.3"
  }
 },
 "nbformat": 4,
 "nbformat_minor": 2
}
