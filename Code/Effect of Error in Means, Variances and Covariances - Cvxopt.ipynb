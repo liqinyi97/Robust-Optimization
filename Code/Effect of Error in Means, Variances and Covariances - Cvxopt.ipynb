{
 "cells": [
  {
   "cell_type": "code",
   "execution_count": 1,
   "metadata": {},
   "outputs": [],
   "source": [
    "import numpy as np\n",
    "import pandas as pd\n",
    "from cvxopt import matrix, solvers"
   ]
  },
  {
   "cell_type": "code",
   "execution_count": 2,
   "metadata": {},
   "outputs": [],
   "source": [
    "df = pd.read_csv('Data/Data_DJIA.csv', index_col = 1)\n",
    "df['ADJ_PRC'] =  df['PRC']/df['CFACPR']\n",
    "price = df.pivot(columns = 'PERMNO', values = 'ADJ_PRC')"
   ]
  },
  {
   "cell_type": "code",
   "execution_count": 3,
   "metadata": {},
   "outputs": [],
   "source": [
    "code_dict = {24643: 'Alcoa',\n",
    "             59176: 'Amex',\n",
    "             19561: 'Boeing',\n",
    "             14541: 'Chev',\n",
    "             11308: 'Coke',\n",
    "             11703: 'Du Pont',\n",
    "             22592: 'MMM',\n",
    "             18163: 'P&G',\n",
    "             14322: 'Sears',\n",
    "             17830: 'U Tech'}"
   ]
  },
  {
   "cell_type": "code",
   "execution_count": 4,
   "metadata": {},
   "outputs": [],
   "source": [
    "price.rename(columns = code_dict, inplace = True)\n",
    "price = price[code_dict.values()]"
   ]
  },
  {
   "cell_type": "code",
   "execution_count": 5,
   "metadata": {},
   "outputs": [],
   "source": [
    "rtn = price.pct_change()[2:]"
   ]
  },
  {
   "cell_type": "code",
   "execution_count": 6,
   "metadata": {},
   "outputs": [],
   "source": [
    "mean = rtn.mean().values\n",
    "std = rtn.std().values\n",
    "corr = rtn.corr().values\n",
    "cov = rtn.cov().values"
   ]
  },
  {
   "cell_type": "code",
   "execution_count": 7,
   "metadata": {},
   "outputs": [
    {
     "data": {
      "text/plain": [
       "PERMNO\n",
       "Alcoa      0.010971\n",
       "Amex       0.016781\n",
       "Boeing     0.013849\n",
       "Chev       0.010020\n",
       "Coke       0.017898\n",
       "Du Pont    0.011673\n",
       "MMM        0.011580\n",
       "P&G        0.013074\n",
       "Sears      0.009936\n",
       "U Tech     0.010003\n",
       "dtype: float64"
      ]
     },
     "execution_count": 7,
     "metadata": {},
     "output_type": "execute_result"
    }
   ],
   "source": [
    "rtn.mean()"
   ]
  },
  {
   "cell_type": "code",
   "execution_count": 8,
   "metadata": {},
   "outputs": [
    {
     "data": {
      "text/plain": [
       "PERMNO\n",
       "Alcoa      0.086669\n",
       "Amex       0.084585\n",
       "Boeing     0.097071\n",
       "Chev       0.084926\n",
       "Coke       0.060055\n",
       "Du Pont    0.068438\n",
       "MMM        0.057920\n",
       "P&G        0.056477\n",
       "Sears      0.080176\n",
       "U Tech     0.081194\n",
       "dtype: float64"
      ]
     },
     "execution_count": 8,
     "metadata": {},
     "output_type": "execute_result"
    }
   ],
   "source": [
    "rtn.std()"
   ]
  },
  {
   "cell_type": "code",
   "execution_count": 15,
   "metadata": {},
   "outputs": [],
   "source": [
    "#Basic Portfolio Settings\n",
    "t = 50\n",
    "a = 2/t\n",
    "N = len(mean)\n",
    "\n",
    "P = matrix(a*cov)\n",
    "q = matrix(-mean)\n",
    "G = matrix(np.diag([-1.0 for i in range(N)]), tc='d')\n",
    "h = matrix(np.array([0.0 for i in range(N)]), tc='d')\n",
    "A = matrix(np.array([[1.0 for i in range(N)]]), tc='d')\n",
    "b = matrix(np.array([1.0]), tc='d')\n",
    "\n",
    "sol = solvers.qp(P,q,G,h,A,b)\n",
    "solvers.options['show_progress'] = False\n",
    "w = sol['x']\n",
    "CE_0 = -sol['primal objective']"
   ]
  },
  {
   "cell_type": "code",
   "execution_count": 16,
   "metadata": {},
   "outputs": [
    {
     "name": "stdout",
     "output_type": "stream",
     "text": [
      "[ 5.39e-08]\n",
      "[ 2.37e-07]\n",
      "[ 2.11e-07]\n",
      "[ 3.70e-08]\n",
      "[ 1.00e+00]\n",
      "[ 7.27e-08]\n",
      "[ 6.79e-08]\n",
      "[ 1.38e-07]\n",
      "[ 3.33e-08]\n",
      "[ 3.50e-08]\n",
      "\n"
     ]
    }
   ],
   "source": [
    "print(sol['x'])"
   ]
  },
  {
   "cell_type": "code",
   "execution_count": 17,
   "metadata": {},
   "outputs": [],
   "source": [
    "#Parameter Setting\n",
    "k_list = np.arange(0.05, 0.20, 0.05)\n",
    "iter_num = 100"
   ]
  },
  {
   "cell_type": "code",
   "execution_count": 18,
   "metadata": {},
   "outputs": [
    {
     "name": "stdout",
     "output_type": "stream",
     "text": [
      "0.010465306131283025\n",
      "0.01920851673522184\n",
      "0.04524001037698202\n",
      "0.04101267135011557\n"
     ]
    }
   ],
   "source": [
    "#Examine the effect of errors in means\n",
    "for k in k_list:\n",
    "    CEL = 0\n",
    "    for n in range(iter_num):\n",
    "        z = np.random.normal(size = N)*k + 1\n",
    "        mean_new = np.multiply(mean, z)\n",
    "    \n",
    "        P = matrix(a*cov)\n",
    "        q = matrix(-mean_new)\n",
    "        G = matrix(np.diag([-1.0 for i in range(N)]), tc='d')\n",
    "        h = matrix(np.array([0.0 for i in range(N)]), tc='d')\n",
    "        A = matrix(np.array([[1.0 for i in range(N)]]), tc='d')\n",
    "        b = matrix(np.array([1.0]), tc='d')\n",
    "\n",
    "        sol = solvers.qp(P,q,G,h,A,b)\n",
    "        w_new = sol['x']\n",
    "        CE_x = np.dot(mean,w_new)[0] - 0.5*a*np.dot(np.dot(w_new.T, cov), w_new)[0][0]\n",
    "    \n",
    "        CEL += (1 - CE_x/CE_0)\n",
    "    CEL /= iter_num\n",
    "    print(CEL)"
   ]
  },
  {
   "cell_type": "code",
   "execution_count": 19,
   "metadata": {},
   "outputs": [
    {
     "name": "stdout",
     "output_type": "stream",
     "text": [
      "2.1044330722475025e-11\n",
      "1.9622068525571024e-10\n",
      "7.650899358502272e-11\n",
      "3.6027982153186146e-10\n"
     ]
    }
   ],
   "source": [
    "#Examine the effect of errors in variances\n",
    "for k in k_list:\n",
    "    CEL = 0\n",
    "    for n in range(iter_num):\n",
    "        z = np.random.normal(size = N)*k + 1\n",
    "        var = np.diag(cov)\n",
    "        var_new = np.multiply(var, z)\n",
    "        cov_new = cov + np.diag(var_new - var)\n",
    "    \n",
    "        P = matrix(a*cov_new)\n",
    "        q = matrix(-mean)\n",
    "        G = matrix(np.diag([-1.0 for i in range(N)]), tc='d')\n",
    "        h = matrix(np.array([0.0 for i in range(N)]), tc='d')\n",
    "        A = matrix(np.array([[1.0 for i in range(N)]]), tc='d')\n",
    "        b = matrix(np.array([1.0]), tc='d')\n",
    "\n",
    "        sol = solvers.qp(P,q,G,h,A,b)\n",
    "        w_new = sol['x']\n",
    "        CE_x = np.dot(mean,w_new)[0] - 0.5*a*np.dot(np.dot(w_new.T, cov), w_new)[0][0]\n",
    "    \n",
    "        CEL += (1 - CE_x/CE_0)\n",
    "    CEL /= iter_num\n",
    "    print(CEL)"
   ]
  },
  {
   "cell_type": "code",
   "execution_count": 20,
   "metadata": {},
   "outputs": [
    {
     "name": "stdout",
     "output_type": "stream",
     "text": [
      "-1.6056839746703134e-10\n",
      "2.478995564381137e-10\n",
      "4.4667543996901315e-10\n",
      "5.154178972510693e-10\n"
     ]
    }
   ],
   "source": [
    "#Examine the effect of errors in covariances\n",
    "for k in k_list:\n",
    "    CEL = 0\n",
    "    for n in range(iter_num):\n",
    "        z = np.random.normal(size = N**2)*k + 1\n",
    "        var = np.diag(cov)\n",
    "        upper = np.triu(cov)\n",
    "        cov_new = np.multiply(upper.reshape(-1), z).reshape((N,N))\n",
    "        cov_new += cov_new.T\n",
    "        cov_new = cov_new - np.diag(np.diag(cov_new)) + np.diag(var)\n",
    "    \n",
    "        P = matrix(a*cov_new)\n",
    "        q = matrix(-mean)\n",
    "        G = matrix(np.diag([-1.0 for i in range(N)]), tc='d')\n",
    "        h = matrix(np.array([0.0 for i in range(N)]), tc='d')\n",
    "        A = matrix(np.array([[1.0 for i in range(N)]]), tc='d')\n",
    "        b = matrix(np.array([1.0]), tc='d')\n",
    "\n",
    "        sol = solvers.qp(P,q,G,h,A,b)\n",
    "        w_new = sol['x']\n",
    "        CE_x = np.dot(mean,w_new)[0] - 0.5*a*np.dot(np.dot(w_new.T, cov), w_new)[0][0]\n",
    "    \n",
    "        CEL += (1 - CE_x/CE_0)\n",
    "    CEL /= iter_num\n",
    "    print(CEL)"
   ]
  },
  {
   "cell_type": "code",
   "execution_count": null,
   "metadata": {},
   "outputs": [],
   "source": []
  }
 ],
 "metadata": {
  "kernelspec": {
   "display_name": "Python 3",
   "language": "python",
   "name": "python3"
  },
  "language_info": {
   "codemirror_mode": {
    "name": "ipython",
    "version": 3
   },
   "file_extension": ".py",
   "mimetype": "text/x-python",
   "name": "python",
   "nbconvert_exporter": "python",
   "pygments_lexer": "ipython3",
   "version": "3.7.3"
  }
 },
 "nbformat": 4,
 "nbformat_minor": 2
}
